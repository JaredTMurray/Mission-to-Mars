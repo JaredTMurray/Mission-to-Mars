{
 "cells": [
  {
   "cell_type": "code",
   "execution_count": 7,
   "id": "40968067",
   "metadata": {},
   "outputs": [],
   "source": [
    "# Import Splinter and BeautifulSoup\n",
    "from splinter import Browser\n",
    "from bs4 import BeautifulSoup as soup\n",
    "from webdriver_manager.chrome import ChromeDriverManager"
   ]
  },
  {
   "cell_type": "code",
   "execution_count": 8,
   "id": "37d1d8f4",
   "metadata": {},
   "outputs": [],
   "source": [
    "# set the executable path\n",
    "executable_path = {'executable_path': ChromeDriverManager().install()}\n",
    "browser = Browser('chrome', **executable_path, headless=False)"
   ]
  },
  {
   "cell_type": "code",
   "execution_count": 16,
   "id": "1dee0683",
   "metadata": {},
   "outputs": [
    {
     "data": {
      "text/plain": [
       "True"
      ]
     },
     "execution_count": 16,
     "metadata": {},
     "output_type": "execute_result"
    }
   ],
   "source": [
    "# Visit the Mars NASA news site\n",
    "url = 'https://redplanetscience.com'\n",
    "browser.visit(url)\n",
    "# Optional delay for loading the page\n",
    "browser.is_element_present_by_css('div.list_text', wait_time=1)"
   ]
  },
  {
   "cell_type": "code",
   "execution_count": 54,
   "id": "0ca8e6f3",
   "metadata": {},
   "outputs": [],
   "source": [
    "# set up the HTML parser.\n",
    "html = browser.html\n",
    "news_soup = soup(html, 'html.parser')\n",
    "slide_elem = news_soup.select_one('div.list_text')"
   ]
  },
  {
   "cell_type": "code",
   "execution_count": 55,
   "id": "16e33269",
   "metadata": {},
   "outputs": [
    {
     "name": "stdout",
     "output_type": "stream",
     "text": [
      "<div class=\"content_title\">Independent Review Indicates NASA Prepared for Mars Sample Return Campaign</div>\n"
     ]
    }
   ],
   "source": [
    "#Scrape an Article Title and Its Summary Text\n",
    "title_elem = slide_elem.find('div', class_='content_title')\n",
    "print(title_elem)"
   ]
  },
  {
   "cell_type": "code",
   "execution_count": 56,
   "id": "7a618df1",
   "metadata": {},
   "outputs": [
    {
     "name": "stdout",
     "output_type": "stream",
     "text": [
      "Independent Review Indicates NASA Prepared for Mars Sample Return Campaign\n"
     ]
    }
   ],
   "source": [
    "#Print Title Only\n",
    "title = title_elem.get_text()\n",
    "print(title)"
   ]
  },
  {
   "cell_type": "code",
   "execution_count": 77,
   "id": "7e2499bb",
   "metadata": {},
   "outputs": [
    {
     "name": "stdout",
     "output_type": "stream",
     "text": [
      "Independent Review Indicates NASA Prepared for Mars Sample Return Campaign\n"
     ]
    }
   ],
   "source": [
    "# Scrape the article title and going through the for loop\n",
    "articles = slide_elem.find_all('div', class_='content_title')\n",
    "\n",
    "for article in articles:\n",
    "    headline = article.text\n",
    "    print(headline)"
   ]
  },
  {
   "cell_type": "code",
   "execution_count": 58,
   "id": "7b08adb9",
   "metadata": {},
   "outputs": [],
   "source": [
    "import pandas as pd"
   ]
  },
  {
   "cell_type": "code",
   "execution_count": 59,
   "id": "d648762e",
   "metadata": {},
   "outputs": [
    {
     "data": {
      "text/plain": [
       "'NASA released an independent review report Tuesday indicating the agency is well positioned for its Mars Sample Return campaign to bring pristine samples from Mars to Earth for scientific study.'"
      ]
     },
     "execution_count": 59,
     "metadata": {},
     "output_type": "execute_result"
    }
   ],
   "source": [
    "# Use the parent element to find the paragraph text\n",
    "news_p = slide_elem.find('div', class_='article_teaser_body').text\n",
    "news_p"
   ]
  },
  {
   "cell_type": "code",
   "execution_count": 60,
   "id": "c50863b4",
   "metadata": {},
   "outputs": [
    {
     "name": "stdout",
     "output_type": "stream",
     "text": [
      "NASA released an independent review report Tuesday indicating the agency is well positioned for its Mars Sample Return campaign to bring pristine samples from Mars to Earth for scientific study.\n"
     ]
    }
   ],
   "source": [
    "# use the for for iteriation loop\n",
    "previews = slide_elem.find_all('div', class_='article_teaser_body')\n",
    "\n",
    "for preview in previews:\n",
    "    snip = preview.text\n",
    "    print(snip)"
   ]
  },
  {
   "cell_type": "code",
   "execution_count": 80,
   "id": "afc726ce",
   "metadata": {},
   "outputs": [
    {
     "data": {
      "text/plain": [
       "{'Independent Review Indicates NASA Prepared for Mars Sample Return Campaign',\n",
       " 'NASA released an independent review report Tuesday indicating the agency is well positioned for its Mars Sample Return campaign to bring pristine samples from Mars to Earth for scientific study.'}"
      ]
     },
     "execution_count": 80,
     "metadata": {},
     "output_type": "execute_result"
    }
   ],
   "source": [
    "# placing in a empty dictionary and passing the Title and news values in the all_news varable\n",
    "# scraped information was stored in the specified Python data structure\n",
    "all_news = {headline,snip}\n",
    "all_news"
   ]
  },
  {
   "cell_type": "code",
   "execution_count": 8,
   "id": "6097da47",
   "metadata": {},
   "outputs": [],
   "source": [
    "browser.quit()"
   ]
  }
 ],
 "metadata": {
  "kernelspec": {
   "display_name": "PythonData",
   "language": "python",
   "name": "pythondata"
  },
  "language_info": {
   "codemirror_mode": {
    "name": "ipython",
    "version": 3
   },
   "file_extension": ".py",
   "mimetype": "text/x-python",
   "name": "python",
   "nbconvert_exporter": "python",
   "pygments_lexer": "ipython3",
   "version": "3.9.12"
  }
 },
 "nbformat": 4,
 "nbformat_minor": 5
}
